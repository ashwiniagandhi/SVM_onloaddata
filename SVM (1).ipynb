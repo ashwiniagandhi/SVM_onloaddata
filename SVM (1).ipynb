{
 "cells": [
  {
   "cell_type": "code",
   "execution_count": 1,
   "metadata": {},
   "outputs": [],
   "source": [
    "#Import Library\n",
    "from sklearn import svm\n",
    "import pandas as pd\n",
    "from sklearn.metrics import accuracy_score\n",
    "import warnings\n",
    "warnings.filterwarnings('ignore')"
   ]
  },
  {
   "cell_type": "code",
   "execution_count": 3,
   "metadata": {},
   "outputs": [
    {
     "data": {
      "text/html": [
       "<div>\n",
       "<style scoped>\n",
       "    .dataframe tbody tr th:only-of-type {\n",
       "        vertical-align: middle;\n",
       "    }\n",
       "\n",
       "    .dataframe tbody tr th {\n",
       "        vertical-align: top;\n",
       "    }\n",
       "\n",
       "    .dataframe thead th {\n",
       "        text-align: right;\n",
       "    }\n",
       "</style>\n",
       "<table border=\"1\" class=\"dataframe\">\n",
       "  <thead>\n",
       "    <tr style=\"text-align: right;\">\n",
       "      <th></th>\n",
       "      <th>Loan_ID</th>\n",
       "      <th>Gender</th>\n",
       "      <th>Married</th>\n",
       "      <th>Dependents</th>\n",
       "      <th>Education</th>\n",
       "      <th>Self_Employed</th>\n",
       "      <th>ApplicantIncome</th>\n",
       "      <th>CoapplicantIncome</th>\n",
       "      <th>LoanAmount</th>\n",
       "      <th>Loan_Amount_Term</th>\n",
       "      <th>Credit_History</th>\n",
       "      <th>Property_Area</th>\n",
       "      <th>Loan_Status</th>\n",
       "    </tr>\n",
       "  </thead>\n",
       "  <tbody>\n",
       "    <tr>\n",
       "      <th>0</th>\n",
       "      <td>LP001002</td>\n",
       "      <td>Male</td>\n",
       "      <td>No</td>\n",
       "      <td>0</td>\n",
       "      <td>Graduate</td>\n",
       "      <td>No</td>\n",
       "      <td>5849</td>\n",
       "      <td>0.0</td>\n",
       "      <td>NaN</td>\n",
       "      <td>360.0</td>\n",
       "      <td>1.0</td>\n",
       "      <td>Urban</td>\n",
       "      <td>Y</td>\n",
       "    </tr>\n",
       "    <tr>\n",
       "      <th>1</th>\n",
       "      <td>LP001003</td>\n",
       "      <td>Male</td>\n",
       "      <td>Yes</td>\n",
       "      <td>1</td>\n",
       "      <td>Graduate</td>\n",
       "      <td>No</td>\n",
       "      <td>4583</td>\n",
       "      <td>1508.0</td>\n",
       "      <td>128.0</td>\n",
       "      <td>360.0</td>\n",
       "      <td>1.0</td>\n",
       "      <td>Rural</td>\n",
       "      <td>N</td>\n",
       "    </tr>\n",
       "    <tr>\n",
       "      <th>2</th>\n",
       "      <td>LP001005</td>\n",
       "      <td>Male</td>\n",
       "      <td>Yes</td>\n",
       "      <td>0</td>\n",
       "      <td>Graduate</td>\n",
       "      <td>Yes</td>\n",
       "      <td>3000</td>\n",
       "      <td>0.0</td>\n",
       "      <td>66.0</td>\n",
       "      <td>360.0</td>\n",
       "      <td>1.0</td>\n",
       "      <td>Urban</td>\n",
       "      <td>Y</td>\n",
       "    </tr>\n",
       "    <tr>\n",
       "      <th>3</th>\n",
       "      <td>LP001006</td>\n",
       "      <td>Male</td>\n",
       "      <td>Yes</td>\n",
       "      <td>0</td>\n",
       "      <td>Not Graduate</td>\n",
       "      <td>No</td>\n",
       "      <td>2583</td>\n",
       "      <td>2358.0</td>\n",
       "      <td>120.0</td>\n",
       "      <td>360.0</td>\n",
       "      <td>1.0</td>\n",
       "      <td>Urban</td>\n",
       "      <td>Y</td>\n",
       "    </tr>\n",
       "    <tr>\n",
       "      <th>4</th>\n",
       "      <td>LP001008</td>\n",
       "      <td>Male</td>\n",
       "      <td>No</td>\n",
       "      <td>0</td>\n",
       "      <td>Graduate</td>\n",
       "      <td>No</td>\n",
       "      <td>6000</td>\n",
       "      <td>0.0</td>\n",
       "      <td>141.0</td>\n",
       "      <td>360.0</td>\n",
       "      <td>1.0</td>\n",
       "      <td>Urban</td>\n",
       "      <td>Y</td>\n",
       "    </tr>\n",
       "  </tbody>\n",
       "</table>\n",
       "</div>"
      ],
      "text/plain": [
       "    Loan_ID Gender Married Dependents     Education Self_Employed  \\\n",
       "0  LP001002   Male      No          0      Graduate            No   \n",
       "1  LP001003   Male     Yes          1      Graduate            No   \n",
       "2  LP001005   Male     Yes          0      Graduate           Yes   \n",
       "3  LP001006   Male     Yes          0  Not Graduate            No   \n",
       "4  LP001008   Male      No          0      Graduate            No   \n",
       "\n",
       "   ApplicantIncome  CoapplicantIncome  LoanAmount  Loan_Amount_Term  \\\n",
       "0             5849                0.0         NaN             360.0   \n",
       "1             4583             1508.0       128.0             360.0   \n",
       "2             3000                0.0        66.0             360.0   \n",
       "3             2583             2358.0       120.0             360.0   \n",
       "4             6000                0.0       141.0             360.0   \n",
       "\n",
       "   Credit_History Property_Area Loan_Status  \n",
       "0             1.0         Urban           Y  \n",
       "1             1.0         Rural           N  \n",
       "2             1.0         Urban           Y  \n",
       "3             1.0         Urban           Y  \n",
       "4             1.0         Urban           Y  "
      ]
     },
     "execution_count": 3,
     "metadata": {},
     "output_type": "execute_result"
    }
   ],
   "source": [
    "#Load Train and Test datasets\n",
    "#Identify feature and response variable(s) and values must be numeric and numpy arrays\n",
    "train=pd.read_csv('train.csv')\n",
    "train.head()"
   ]
  },
  {
   "cell_type": "code",
   "execution_count": 41,
   "metadata": {},
   "outputs": [
    {
     "data": {
      "text/plain": [
       "Index(['Gender', 'Married', 'Dependents', 'Education', 'Self_Employed',\n",
       "       'ApplicantIncome', 'LoanAmount', 'Loan_Amount_Term', 'Credit_History',\n",
       "       'Property_Area', 'Loan_Status'],\n",
       "      dtype='object')"
      ]
     },
     "execution_count": 41,
     "metadata": {},
     "output_type": "execute_result"
    }
   ],
   "source": [
    "train.columns"
   ]
  },
  {
   "cell_type": "code",
   "execution_count": 4,
   "metadata": {},
   "outputs": [],
   "source": [
    "train_y=train['Loan_Status']\n",
    "train_x=train.drop([\"Loan_Status\"],axis=1)"
   ]
  },
  {
   "cell_type": "code",
   "execution_count": 5,
   "metadata": {},
   "outputs": [
    {
     "data": {
      "text/html": [
       "<div>\n",
       "<style scoped>\n",
       "    .dataframe tbody tr th:only-of-type {\n",
       "        vertical-align: middle;\n",
       "    }\n",
       "\n",
       "    .dataframe tbody tr th {\n",
       "        vertical-align: top;\n",
       "    }\n",
       "\n",
       "    .dataframe thead th {\n",
       "        text-align: right;\n",
       "    }\n",
       "</style>\n",
       "<table border=\"1\" class=\"dataframe\">\n",
       "  <thead>\n",
       "    <tr style=\"text-align: right;\">\n",
       "      <th></th>\n",
       "      <th>Loan_ID</th>\n",
       "      <th>Gender</th>\n",
       "      <th>Married</th>\n",
       "      <th>Dependents</th>\n",
       "      <th>Education</th>\n",
       "      <th>Self_Employed</th>\n",
       "      <th>ApplicantIncome</th>\n",
       "      <th>CoapplicantIncome</th>\n",
       "      <th>LoanAmount</th>\n",
       "      <th>Loan_Amount_Term</th>\n",
       "      <th>Credit_History</th>\n",
       "      <th>Property_Area</th>\n",
       "    </tr>\n",
       "  </thead>\n",
       "  <tbody>\n",
       "    <tr>\n",
       "      <th>0</th>\n",
       "      <td>LP001015</td>\n",
       "      <td>Male</td>\n",
       "      <td>Yes</td>\n",
       "      <td>0</td>\n",
       "      <td>Graduate</td>\n",
       "      <td>No</td>\n",
       "      <td>5720</td>\n",
       "      <td>0</td>\n",
       "      <td>110.0</td>\n",
       "      <td>360.0</td>\n",
       "      <td>1.0</td>\n",
       "      <td>Urban</td>\n",
       "    </tr>\n",
       "    <tr>\n",
       "      <th>1</th>\n",
       "      <td>LP001022</td>\n",
       "      <td>Male</td>\n",
       "      <td>Yes</td>\n",
       "      <td>1</td>\n",
       "      <td>Graduate</td>\n",
       "      <td>No</td>\n",
       "      <td>3076</td>\n",
       "      <td>1500</td>\n",
       "      <td>126.0</td>\n",
       "      <td>360.0</td>\n",
       "      <td>1.0</td>\n",
       "      <td>Urban</td>\n",
       "    </tr>\n",
       "    <tr>\n",
       "      <th>2</th>\n",
       "      <td>LP001031</td>\n",
       "      <td>Male</td>\n",
       "      <td>Yes</td>\n",
       "      <td>2</td>\n",
       "      <td>Graduate</td>\n",
       "      <td>No</td>\n",
       "      <td>5000</td>\n",
       "      <td>1800</td>\n",
       "      <td>208.0</td>\n",
       "      <td>360.0</td>\n",
       "      <td>1.0</td>\n",
       "      <td>Urban</td>\n",
       "    </tr>\n",
       "    <tr>\n",
       "      <th>3</th>\n",
       "      <td>LP001035</td>\n",
       "      <td>Male</td>\n",
       "      <td>Yes</td>\n",
       "      <td>2</td>\n",
       "      <td>Graduate</td>\n",
       "      <td>No</td>\n",
       "      <td>2340</td>\n",
       "      <td>2546</td>\n",
       "      <td>100.0</td>\n",
       "      <td>360.0</td>\n",
       "      <td>NaN</td>\n",
       "      <td>Urban</td>\n",
       "    </tr>\n",
       "    <tr>\n",
       "      <th>4</th>\n",
       "      <td>LP001051</td>\n",
       "      <td>Male</td>\n",
       "      <td>No</td>\n",
       "      <td>0</td>\n",
       "      <td>Not Graduate</td>\n",
       "      <td>No</td>\n",
       "      <td>3276</td>\n",
       "      <td>0</td>\n",
       "      <td>78.0</td>\n",
       "      <td>360.0</td>\n",
       "      <td>1.0</td>\n",
       "      <td>Urban</td>\n",
       "    </tr>\n",
       "  </tbody>\n",
       "</table>\n",
       "</div>"
      ],
      "text/plain": [
       "    Loan_ID Gender Married Dependents     Education Self_Employed  \\\n",
       "0  LP001015   Male     Yes          0      Graduate            No   \n",
       "1  LP001022   Male     Yes          1      Graduate            No   \n",
       "2  LP001031   Male     Yes          2      Graduate            No   \n",
       "3  LP001035   Male     Yes          2      Graduate            No   \n",
       "4  LP001051   Male      No          0  Not Graduate            No   \n",
       "\n",
       "   ApplicantIncome  CoapplicantIncome  LoanAmount  Loan_Amount_Term  \\\n",
       "0             5720                  0       110.0             360.0   \n",
       "1             3076               1500       126.0             360.0   \n",
       "2             5000               1800       208.0             360.0   \n",
       "3             2340               2546       100.0             360.0   \n",
       "4             3276                  0        78.0             360.0   \n",
       "\n",
       "   Credit_History Property_Area  \n",
       "0             1.0         Urban  \n",
       "1             1.0         Urban  \n",
       "2             1.0         Urban  \n",
       "3             NaN         Urban  \n",
       "4             1.0         Urban  "
      ]
     },
     "execution_count": 5,
     "metadata": {},
     "output_type": "execute_result"
    }
   ],
   "source": [
    "test=pd.read_csv('test.csv')\n",
    "test.head()"
   ]
  },
  {
   "cell_type": "code",
   "execution_count": 42,
   "metadata": {},
   "outputs": [
    {
     "data": {
      "text/plain": [
       "Index(['Gender', 'Married', 'Dependents', 'Education', 'Self_Employed',\n",
       "       'ApplicantIncome', 'LoanAmount', 'Loan_Amount_Term', 'Credit_History',\n",
       "       'Property_Area'],\n",
       "      dtype='object')"
      ]
     },
     "execution_count": 42,
     "metadata": {},
     "output_type": "execute_result"
    }
   ],
   "source": [
    "test.columns"
   ]
  },
  {
   "cell_type": "code",
   "execution_count": 6,
   "metadata": {
    "collapsed": true
   },
   "outputs": [
    {
     "data": {
      "text/plain": [
       "[      Loan_ID  Gender Married Dependents     Education Self_Employed  \\\n",
       " 0    LP001002    Male      No          0      Graduate            No   \n",
       " 1    LP001003    Male     Yes          1      Graduate            No   \n",
       " 2    LP001005    Male     Yes          0      Graduate           Yes   \n",
       " 3    LP001006    Male     Yes          0  Not Graduate            No   \n",
       " 4    LP001008    Male      No          0      Graduate            No   \n",
       " 5    LP001011    Male     Yes          2      Graduate           Yes   \n",
       " 6    LP001013    Male     Yes          0  Not Graduate            No   \n",
       " 7    LP001014    Male     Yes         3+      Graduate            No   \n",
       " 8    LP001018    Male     Yes          2      Graduate            No   \n",
       " 9    LP001020    Male     Yes          1      Graduate            No   \n",
       " 10   LP001024    Male     Yes          2      Graduate            No   \n",
       " 11   LP001027    Male     Yes          2      Graduate           NaN   \n",
       " 12   LP001028    Male     Yes          2      Graduate            No   \n",
       " 13   LP001029    Male      No          0      Graduate            No   \n",
       " 14   LP001030    Male     Yes          2      Graduate            No   \n",
       " 15   LP001032    Male      No          0      Graduate            No   \n",
       " 16   LP001034    Male      No          1  Not Graduate            No   \n",
       " 17   LP001036  Female      No          0      Graduate            No   \n",
       " 18   LP001038    Male     Yes          0  Not Graduate            No   \n",
       " 19   LP001041    Male     Yes          0      Graduate           NaN   \n",
       " 20   LP001043    Male     Yes          0  Not Graduate            No   \n",
       " 21   LP001046    Male     Yes          1      Graduate            No   \n",
       " 22   LP001047    Male     Yes          0  Not Graduate            No   \n",
       " 23   LP001050     NaN     Yes          2  Not Graduate            No   \n",
       " 24   LP001052    Male     Yes          1      Graduate           NaN   \n",
       " 25   LP001066    Male     Yes          0      Graduate           Yes   \n",
       " 26   LP001068    Male     Yes          0      Graduate            No   \n",
       " 27   LP001073    Male     Yes          2  Not Graduate            No   \n",
       " 28   LP001086    Male      No          0  Not Graduate            No   \n",
       " 29   LP001087  Female      No          2      Graduate           NaN   \n",
       " ..        ...     ...     ...        ...           ...           ...   \n",
       " 584  LP002911    Male     Yes          1      Graduate            No   \n",
       " 585  LP002912    Male     Yes          1      Graduate            No   \n",
       " 586  LP002916    Male     Yes          0      Graduate            No   \n",
       " 587  LP002917  Female      No          0  Not Graduate            No   \n",
       " 588  LP002925     NaN      No          0      Graduate            No   \n",
       " 589  LP002926    Male     Yes          2      Graduate           Yes   \n",
       " 590  LP002928    Male     Yes          0      Graduate            No   \n",
       " 591  LP002931    Male     Yes          2      Graduate           Yes   \n",
       " 592  LP002933     NaN      No         3+      Graduate           Yes   \n",
       " 593  LP002936    Male     Yes          0      Graduate            No   \n",
       " 594  LP002938    Male     Yes          0      Graduate           Yes   \n",
       " 595  LP002940    Male      No          0  Not Graduate            No   \n",
       " 596  LP002941    Male     Yes          2  Not Graduate           Yes   \n",
       " 597  LP002943    Male      No        NaN      Graduate            No   \n",
       " 598  LP002945    Male     Yes          0      Graduate           Yes   \n",
       " 599  LP002948    Male     Yes          2      Graduate            No   \n",
       " 600  LP002949  Female      No         3+      Graduate           NaN   \n",
       " 601  LP002950    Male     Yes          0  Not Graduate           NaN   \n",
       " 602  LP002953    Male     Yes         3+      Graduate            No   \n",
       " 603  LP002958    Male      No          0      Graduate            No   \n",
       " 604  LP002959  Female     Yes          1      Graduate            No   \n",
       " 605  LP002960    Male     Yes          0  Not Graduate            No   \n",
       " 606  LP002961    Male     Yes          1      Graduate            No   \n",
       " 607  LP002964    Male     Yes          2  Not Graduate            No   \n",
       " 608  LP002974    Male     Yes          0      Graduate            No   \n",
       " 609  LP002978  Female      No          0      Graduate            No   \n",
       " 610  LP002979    Male     Yes         3+      Graduate            No   \n",
       " 611  LP002983    Male     Yes          1      Graduate            No   \n",
       " 612  LP002984    Male     Yes          2      Graduate            No   \n",
       " 613  LP002990  Female      No          0      Graduate           Yes   \n",
       " \n",
       "      ApplicantIncome  CoapplicantIncome  LoanAmount  Loan_Amount_Term  \\\n",
       " 0               5849                0.0         NaN             360.0   \n",
       " 1               4583             1508.0       128.0             360.0   \n",
       " 2               3000                0.0        66.0             360.0   \n",
       " 3               2583             2358.0       120.0             360.0   \n",
       " 4               6000                0.0       141.0             360.0   \n",
       " 5               5417             4196.0       267.0             360.0   \n",
       " 6               2333             1516.0        95.0             360.0   \n",
       " 7               3036             2504.0       158.0             360.0   \n",
       " 8               4006             1526.0       168.0             360.0   \n",
       " 9              12841            10968.0       349.0             360.0   \n",
       " 10              3200              700.0        70.0             360.0   \n",
       " 11              2500             1840.0       109.0             360.0   \n",
       " 12              3073             8106.0       200.0             360.0   \n",
       " 13              1853             2840.0       114.0             360.0   \n",
       " 14              1299             1086.0        17.0             120.0   \n",
       " 15              4950                0.0       125.0             360.0   \n",
       " 16              3596                0.0       100.0             240.0   \n",
       " 17              3510                0.0        76.0             360.0   \n",
       " 18              4887                0.0       133.0             360.0   \n",
       " 19              2600             3500.0       115.0               NaN   \n",
       " 20              7660                0.0       104.0             360.0   \n",
       " 21              5955             5625.0       315.0             360.0   \n",
       " 22              2600             1911.0       116.0             360.0   \n",
       " 23              3365             1917.0       112.0             360.0   \n",
       " 24              3717             2925.0       151.0             360.0   \n",
       " 25              9560                0.0       191.0             360.0   \n",
       " 26              2799             2253.0       122.0             360.0   \n",
       " 27              4226             1040.0       110.0             360.0   \n",
       " 28              1442                0.0        35.0             360.0   \n",
       " 29              3750             2083.0       120.0             360.0   \n",
       " ..               ...                ...         ...               ...   \n",
       " 584             2787             1917.0       146.0             360.0   \n",
       " 585             4283             3000.0       172.0              84.0   \n",
       " 586             2297             1522.0       104.0             360.0   \n",
       " 587             2165                0.0        70.0             360.0   \n",
       " 588             4750                0.0        94.0             360.0   \n",
       " 589             2726                0.0       106.0             360.0   \n",
       " 590             3000             3416.0        56.0             180.0   \n",
       " 591             6000                0.0       205.0             240.0   \n",
       " 592             9357                0.0       292.0             360.0   \n",
       " 593             3859             3300.0       142.0             180.0   \n",
       " 594            16120                0.0       260.0             360.0   \n",
       " 595             3833                0.0       110.0             360.0   \n",
       " 596             6383             1000.0       187.0             360.0   \n",
       " 597             2987                0.0        88.0             360.0   \n",
       " 598             9963                0.0       180.0             360.0   \n",
       " 599             5780                0.0       192.0             360.0   \n",
       " 600              416            41667.0       350.0             180.0   \n",
       " 601             2894             2792.0       155.0             360.0   \n",
       " 602             5703                0.0       128.0             360.0   \n",
       " 603             3676             4301.0       172.0             360.0   \n",
       " 604            12000                0.0       496.0             360.0   \n",
       " 605             2400             3800.0         NaN             180.0   \n",
       " 606             3400             2500.0       173.0             360.0   \n",
       " 607             3987             1411.0       157.0             360.0   \n",
       " 608             3232             1950.0       108.0             360.0   \n",
       " 609             2900                0.0        71.0             360.0   \n",
       " 610             4106                0.0        40.0             180.0   \n",
       " 611             8072              240.0       253.0             360.0   \n",
       " 612             7583                0.0       187.0             360.0   \n",
       " 613             4583                0.0       133.0             360.0   \n",
       " \n",
       "      Credit_History Property_Area Loan_Status  \n",
       " 0               1.0         Urban           Y  \n",
       " 1               1.0         Rural           N  \n",
       " 2               1.0         Urban           Y  \n",
       " 3               1.0         Urban           Y  \n",
       " 4               1.0         Urban           Y  \n",
       " 5               1.0         Urban           Y  \n",
       " 6               1.0         Urban           Y  \n",
       " 7               0.0     Semiurban           N  \n",
       " 8               1.0         Urban           Y  \n",
       " 9               1.0     Semiurban           N  \n",
       " 10              1.0         Urban           Y  \n",
       " 11              1.0         Urban           Y  \n",
       " 12              1.0         Urban           Y  \n",
       " 13              1.0         Rural           N  \n",
       " 14              1.0         Urban           Y  \n",
       " 15              1.0         Urban           Y  \n",
       " 16              NaN         Urban           Y  \n",
       " 17              0.0         Urban           N  \n",
       " 18              1.0         Rural           N  \n",
       " 19              1.0         Urban           Y  \n",
       " 20              0.0         Urban           N  \n",
       " 21              1.0         Urban           Y  \n",
       " 22              0.0     Semiurban           N  \n",
       " 23              0.0         Rural           N  \n",
       " 24              NaN     Semiurban           N  \n",
       " 25              1.0     Semiurban           Y  \n",
       " 26              1.0     Semiurban           Y  \n",
       " 27              1.0         Urban           Y  \n",
       " 28              1.0         Urban           N  \n",
       " 29              1.0     Semiurban           Y  \n",
       " ..              ...           ...         ...  \n",
       " 584             0.0         Rural           N  \n",
       " 585             1.0         Rural           N  \n",
       " 586             1.0         Urban           Y  \n",
       " 587             1.0     Semiurban           Y  \n",
       " 588             1.0     Semiurban           Y  \n",
       " 589             0.0     Semiurban           N  \n",
       " 590             1.0     Semiurban           Y  \n",
       " 591             1.0     Semiurban           N  \n",
       " 592             1.0     Semiurban           Y  \n",
       " 593             1.0         Rural           Y  \n",
       " 594             1.0         Urban           Y  \n",
       " 595             1.0         Rural           Y  \n",
       " 596             1.0         Rural           N  \n",
       " 597             0.0     Semiurban           N  \n",
       " 598             1.0         Rural           Y  \n",
       " 599             1.0         Urban           Y  \n",
       " 600             NaN         Urban           N  \n",
       " 601             1.0         Rural           Y  \n",
       " 602             1.0         Urban           Y  \n",
       " 603             1.0         Rural           Y  \n",
       " 604             1.0     Semiurban           Y  \n",
       " 605             1.0         Urban           N  \n",
       " 606             1.0     Semiurban           Y  \n",
       " 607             1.0         Rural           Y  \n",
       " 608             1.0         Rural           Y  \n",
       " 609             1.0         Rural           Y  \n",
       " 610             1.0         Rural           Y  \n",
       " 611             1.0         Urban           Y  \n",
       " 612             1.0         Urban           Y  \n",
       " 613             0.0     Semiurban           N  \n",
       " \n",
       " [614 rows x 13 columns],\n",
       "       Loan_ID  Gender Married Dependents     Education Self_Employed  \\\n",
       " 0    LP001015    Male     Yes          0      Graduate            No   \n",
       " 1    LP001022    Male     Yes          1      Graduate            No   \n",
       " 2    LP001031    Male     Yes          2      Graduate            No   \n",
       " 3    LP001035    Male     Yes          2      Graduate            No   \n",
       " 4    LP001051    Male      No          0  Not Graduate            No   \n",
       " 5    LP001054    Male     Yes          0  Not Graduate           Yes   \n",
       " 6    LP001055  Female      No          1  Not Graduate            No   \n",
       " 7    LP001056    Male     Yes          2  Not Graduate            No   \n",
       " 8    LP001059    Male     Yes          2      Graduate           NaN   \n",
       " 9    LP001067    Male      No          0  Not Graduate            No   \n",
       " 10   LP001078    Male      No          0  Not Graduate            No   \n",
       " 11   LP001082    Male     Yes          1      Graduate           NaN   \n",
       " 12   LP001083    Male      No         3+      Graduate            No   \n",
       " 13   LP001094    Male     Yes          2      Graduate           NaN   \n",
       " 14   LP001096  Female      No          0      Graduate            No   \n",
       " 15   LP001099    Male      No          1      Graduate            No   \n",
       " 16   LP001105    Male     Yes          2      Graduate            No   \n",
       " 17   LP001107    Male     Yes         3+      Graduate            No   \n",
       " 18   LP001108    Male     Yes          0      Graduate            No   \n",
       " 19   LP001115    Male      No          0      Graduate            No   \n",
       " 20   LP001121    Male     Yes          1  Not Graduate            No   \n",
       " 21   LP001124  Female      No         3+  Not Graduate            No   \n",
       " 22   LP001128     NaN      No          0      Graduate            No   \n",
       " 23   LP001135  Female      No          0  Not Graduate            No   \n",
       " 24   LP001149    Male     Yes          0      Graduate            No   \n",
       " 25   LP001153    Male      No          0      Graduate            No   \n",
       " 26   LP001163    Male     Yes          2      Graduate            No   \n",
       " 27   LP001169    Male     Yes          0      Graduate            No   \n",
       " 28   LP001174    Male     Yes          0      Graduate            No   \n",
       " 29   LP001176    Male      No          0      Graduate            No   \n",
       " ..        ...     ...     ...        ...           ...           ...   \n",
       " 337  LP002856    Male     Yes          0      Graduate            No   \n",
       " 338  LP002857    Male     Yes          1      Graduate           Yes   \n",
       " 339  LP002858  Female      No          0      Graduate            No   \n",
       " 340  LP002860    Male     Yes          0      Graduate           Yes   \n",
       " 341  LP002867    Male      No          0      Graduate           Yes   \n",
       " 342  LP002869    Male     Yes         3+  Not Graduate            No   \n",
       " 343  LP002870    Male     Yes          1      Graduate            No   \n",
       " 344  LP002876    Male      No          0      Graduate            No   \n",
       " 345  LP002878    Male     Yes         3+      Graduate            No   \n",
       " 346  LP002879    Male     Yes          0      Graduate            No   \n",
       " 347  LP002885    Male      No          0  Not Graduate            No   \n",
       " 348  LP002890    Male     Yes          2  Not Graduate            No   \n",
       " 349  LP002891    Male     Yes          0      Graduate           Yes   \n",
       " 350  LP002899    Male     Yes          2      Graduate            No   \n",
       " 351  LP002901    Male      No          0      Graduate            No   \n",
       " 352  LP002907    Male     Yes          0      Graduate            No   \n",
       " 353  LP002920    Male     Yes          0      Graduate            No   \n",
       " 354  LP002921    Male     Yes         3+  Not Graduate            No   \n",
       " 355  LP002932    Male     Yes         3+      Graduate            No   \n",
       " 356  LP002935    Male     Yes          1      Graduate            No   \n",
       " 357  LP002952    Male      No          0      Graduate            No   \n",
       " 358  LP002954    Male     Yes          2  Not Graduate            No   \n",
       " 359  LP002962    Male      No          0      Graduate            No   \n",
       " 360  LP002965  Female     Yes          0      Graduate            No   \n",
       " 361  LP002969    Male     Yes          1      Graduate            No   \n",
       " 362  LP002971    Male     Yes         3+  Not Graduate           Yes   \n",
       " 363  LP002975    Male     Yes          0      Graduate            No   \n",
       " 364  LP002980    Male      No          0      Graduate            No   \n",
       " 365  LP002986    Male     Yes          0      Graduate            No   \n",
       " 366  LP002989    Male      No          0      Graduate           Yes   \n",
       " \n",
       "      ApplicantIncome  CoapplicantIncome  LoanAmount  Loan_Amount_Term  \\\n",
       " 0               5720                  0       110.0             360.0   \n",
       " 1               3076               1500       126.0             360.0   \n",
       " 2               5000               1800       208.0             360.0   \n",
       " 3               2340               2546       100.0             360.0   \n",
       " 4               3276                  0        78.0             360.0   \n",
       " 5               2165               3422       152.0             360.0   \n",
       " 6               2226                  0        59.0             360.0   \n",
       " 7               3881                  0       147.0             360.0   \n",
       " 8              13633                  0       280.0             240.0   \n",
       " 9               2400               2400       123.0             360.0   \n",
       " 10              3091                  0        90.0             360.0   \n",
       " 11              2185               1516       162.0             360.0   \n",
       " 12              4166                  0        40.0             180.0   \n",
       " 13             12173                  0       166.0             360.0   \n",
       " 14              4666                  0       124.0             360.0   \n",
       " 15              5667                  0       131.0             360.0   \n",
       " 16              4583               2916       200.0             360.0   \n",
       " 17              3786                333       126.0             360.0   \n",
       " 18              9226               7916       300.0             360.0   \n",
       " 19              1300               3470       100.0             180.0   \n",
       " 20              1888               1620        48.0             360.0   \n",
       " 21              2083                  0        28.0             180.0   \n",
       " 22              3909                  0       101.0             360.0   \n",
       " 23              3765                  0       125.0             360.0   \n",
       " 24              5400               4380       290.0             360.0   \n",
       " 25                 0              24000       148.0             360.0   \n",
       " 26              4363               1250       140.0             360.0   \n",
       " 27              7500               3750       275.0             360.0   \n",
       " 28              3772                833        57.0             360.0   \n",
       " 29              2942               2382       125.0             180.0   \n",
       " ..               ...                ...         ...               ...   \n",
       " 337             2292               1558       119.0             360.0   \n",
       " 338             2360               3355        87.0             240.0   \n",
       " 339             4333               2333       162.0             360.0   \n",
       " 340             2623               4831       122.0             180.0   \n",
       " 341             3972               4275       187.0             360.0   \n",
       " 342             3522                  0        81.0             180.0   \n",
       " 343             4700                  0        80.0             360.0   \n",
       " 344             6858                  0       176.0             360.0   \n",
       " 345             8334                  0       260.0             360.0   \n",
       " 346             3391               1966       133.0             360.0   \n",
       " 347             2868                  0        70.0             360.0   \n",
       " 348             3418               1380       135.0             360.0   \n",
       " 349             2500                296       137.0             300.0   \n",
       " 350             8667                  0       254.0             360.0   \n",
       " 351             2283              15000       106.0             360.0   \n",
       " 352             5817                910       109.0             360.0   \n",
       " 353             5119               3769       120.0             360.0   \n",
       " 354             5316                187       158.0             180.0   \n",
       " 355             7603               1213       197.0             360.0   \n",
       " 356             3791               1936        85.0             360.0   \n",
       " 357             2500                  0        60.0             360.0   \n",
       " 358             3132                  0        76.0             360.0   \n",
       " 359             4000               2667       152.0             360.0   \n",
       " 360             8550               4255        96.0             360.0   \n",
       " 361             2269               2167        99.0             360.0   \n",
       " 362             4009               1777       113.0             360.0   \n",
       " 363             4158                709       115.0             360.0   \n",
       " 364             3250               1993       126.0             360.0   \n",
       " 365             5000               2393       158.0             360.0   \n",
       " 366             9200                  0        98.0             180.0   \n",
       " \n",
       "      Credit_History Property_Area  \n",
       " 0               1.0         Urban  \n",
       " 1               1.0         Urban  \n",
       " 2               1.0         Urban  \n",
       " 3               NaN         Urban  \n",
       " 4               1.0         Urban  \n",
       " 5               1.0         Urban  \n",
       " 6               1.0     Semiurban  \n",
       " 7               0.0         Rural  \n",
       " 8               1.0         Urban  \n",
       " 9               1.0     Semiurban  \n",
       " 10              1.0         Urban  \n",
       " 11              1.0     Semiurban  \n",
       " 12              NaN         Urban  \n",
       " 13              0.0     Semiurban  \n",
       " 14              1.0     Semiurban  \n",
       " 15              1.0         Urban  \n",
       " 16              1.0         Urban  \n",
       " 17              1.0     Semiurban  \n",
       " 18              1.0         Urban  \n",
       " 19              1.0     Semiurban  \n",
       " 20              1.0         Urban  \n",
       " 21              1.0         Urban  \n",
       " 22              1.0         Urban  \n",
       " 23              1.0         Urban  \n",
       " 24              1.0         Urban  \n",
       " 25              0.0         Rural  \n",
       " 26              NaN         Urban  \n",
       " 27              1.0         Urban  \n",
       " 28              NaN     Semiurban  \n",
       " 29              1.0         Urban  \n",
       " ..              ...           ...  \n",
       " 337             1.0         Urban  \n",
       " 338             1.0         Rural  \n",
       " 339             0.0         Rural  \n",
       " 340             1.0     Semiurban  \n",
       " 341             1.0         Rural  \n",
       " 342             1.0         Rural  \n",
       " 343             1.0         Urban  \n",
       " 344             1.0         Rural  \n",
       " 345             1.0         Urban  \n",
       " 346             0.0         Rural  \n",
       " 347             1.0         Urban  \n",
       " 348             1.0         Urban  \n",
       " 349             1.0         Rural  \n",
       " 350             1.0         Rural  \n",
       " 351             NaN         Rural  \n",
       " 352             1.0         Urban  \n",
       " 353             1.0         Rural  \n",
       " 354             0.0     Semiurban  \n",
       " 355             1.0         Urban  \n",
       " 356             1.0         Urban  \n",
       " 357             1.0         Urban  \n",
       " 358             NaN         Rural  \n",
       " 359             1.0     Semiurban  \n",
       " 360             NaN         Urban  \n",
       " 361             1.0     Semiurban  \n",
       " 362             1.0         Urban  \n",
       " 363             1.0         Urban  \n",
       " 364             NaN     Semiurban  \n",
       " 365             1.0         Rural  \n",
       " 366             1.0         Rural  \n",
       " \n",
       " [367 rows x 12 columns]]"
      ]
     },
     "execution_count": 6,
     "metadata": {},
     "output_type": "execute_result"
    }
   ],
   "source": [
    "dataset = [train,test]\n",
    "dataset"
   ]
  },
  {
   "cell_type": "code",
   "execution_count": 7,
   "metadata": {},
   "outputs": [
    {
     "name": "stdout",
     "output_type": "stream",
     "text": [
      "<class 'pandas.core.frame.DataFrame'>\n",
      "RangeIndex: 614 entries, 0 to 613\n",
      "Data columns (total 13 columns):\n",
      "Loan_ID              614 non-null object\n",
      "Gender               601 non-null object\n",
      "Married              611 non-null object\n",
      "Dependents           599 non-null object\n",
      "Education            614 non-null object\n",
      "Self_Employed        582 non-null object\n",
      "ApplicantIncome      614 non-null int64\n",
      "CoapplicantIncome    614 non-null float64\n",
      "LoanAmount           592 non-null float64\n",
      "Loan_Amount_Term     600 non-null float64\n",
      "Credit_History       564 non-null float64\n",
      "Property_Area        614 non-null object\n",
      "Loan_Status          614 non-null object\n",
      "dtypes: float64(4), int64(1), object(8)\n",
      "memory usage: 62.4+ KB\n"
     ]
    }
   ],
   "source": [
    "train.info()"
   ]
  },
  {
   "cell_type": "code",
   "execution_count": null,
   "metadata": {},
   "outputs": [],
   "source": [
    "#mean\n",
    "#median\n",
    "#mode"
   ]
  },
  {
   "cell_type": "code",
   "execution_count": 8,
   "metadata": {},
   "outputs": [],
   "source": [
    "for data in dataset:\n",
    "    data[\"Gender\"].ffill(inplace=True)\n",
    "    data[\"Married\"].ffill(inplace=True)\n",
    "    data[\"Dependents\"].ffill(inplace=True)\n",
    "    data[\"Education\"].ffill(inplace=True)\n",
    "    data[\"Self_Employed\"].bfill(inplace=True)\n",
    "    data[\"Property_Area\"].ffill(inplace=True)"
   ]
  },
  {
   "cell_type": "code",
   "execution_count": 9,
   "metadata": {},
   "outputs": [
    {
     "name": "stdout",
     "output_type": "stream",
     "text": [
      "<class 'pandas.core.frame.DataFrame'>\n",
      "RangeIndex: 614 entries, 0 to 613\n",
      "Data columns (total 13 columns):\n",
      "Loan_ID              614 non-null object\n",
      "Gender               614 non-null object\n",
      "Married              614 non-null object\n",
      "Dependents           614 non-null object\n",
      "Education            614 non-null object\n",
      "Self_Employed        614 non-null object\n",
      "ApplicantIncome      614 non-null int64\n",
      "CoapplicantIncome    614 non-null float64\n",
      "LoanAmount           592 non-null float64\n",
      "Loan_Amount_Term     600 non-null float64\n",
      "Credit_History       564 non-null float64\n",
      "Property_Area        614 non-null object\n",
      "Loan_Status          614 non-null object\n",
      "dtypes: float64(4), int64(1), object(8)\n",
      "memory usage: 62.4+ KB\n"
     ]
    }
   ],
   "source": [
    "train.info()"
   ]
  },
  {
   "cell_type": "code",
   "execution_count": 10,
   "metadata": {},
   "outputs": [],
   "source": [
    "#LoanAmount Loan_Amount_Term Credit_History\n",
    "for data in dataset:\n",
    "    data[\"LoanAmount\"].fillna(data[\"LoanAmount\"].median(),inplace=True)\n",
    "    data[\"Loan_Amount_Term\"].fillna(data[\"Loan_Amount_Term\"].median(),inplace=True)\n",
    "    data[\"Credit_History\"].ffill(inplace=True)"
   ]
  },
  {
   "cell_type": "code",
   "execution_count": 11,
   "metadata": {},
   "outputs": [
    {
     "name": "stdout",
     "output_type": "stream",
     "text": [
      "<class 'pandas.core.frame.DataFrame'>\n",
      "RangeIndex: 614 entries, 0 to 613\n",
      "Data columns (total 13 columns):\n",
      "Loan_ID              614 non-null object\n",
      "Gender               614 non-null object\n",
      "Married              614 non-null object\n",
      "Dependents           614 non-null object\n",
      "Education            614 non-null object\n",
      "Self_Employed        614 non-null object\n",
      "ApplicantIncome      614 non-null int64\n",
      "CoapplicantIncome    614 non-null float64\n",
      "LoanAmount           614 non-null float64\n",
      "Loan_Amount_Term     614 non-null float64\n",
      "Credit_History       614 non-null float64\n",
      "Property_Area        614 non-null object\n",
      "Loan_Status          614 non-null object\n",
      "dtypes: float64(4), int64(1), object(8)\n",
      "memory usage: 62.4+ KB\n"
     ]
    }
   ],
   "source": [
    "train.info()"
   ]
  },
  {
   "cell_type": "code",
   "execution_count": 12,
   "metadata": {},
   "outputs": [],
   "source": [
    "import seaborn as sns"
   ]
  },
  {
   "cell_type": "code",
   "execution_count": 13,
   "metadata": {},
   "outputs": [
    {
     "name": "stderr",
     "output_type": "stream",
     "text": [
      "C:\\Users\\Anil\\Anaconda3\\lib\\site-packages\\seaborn\\distributions.py:218: MatplotlibDeprecationWarning: \n",
      "The 'normed' kwarg was deprecated in Matplotlib 2.1 and will be removed in 3.1. Use 'density' instead.\n",
      "  color=hist_color, **hist_kws)\n"
     ]
    },
    {
     "data": {
      "text/plain": [
       "<matplotlib.axes._subplots.AxesSubplot at 0x15f4cd3e908>"
      ]
     },
     "execution_count": 13,
     "metadata": {},
     "output_type": "execute_result"
    },
    {
     "data": {
      "image/png": "[encoded data removed]",
      "text/plain": [
       "<Figure size 432x288 with 1 Axes>"
      ]
     },
     "metadata": {},
     "output_type": "display_data"
    }
   ],
   "source": [
    "sns.distplot(train[\"LoanAmount\"])"
   ]
  },
  {
   "cell_type": "code",
   "execution_count": 14,
   "metadata": {},
   "outputs": [
    {
     "name": "stderr",
     "output_type": "stream",
     "text": [
      "C:\\Users\\Anil\\Anaconda3\\lib\\site-packages\\seaborn\\distributions.py:218: MatplotlibDeprecationWarning: \n",
      "The 'normed' kwarg was deprecated in Matplotlib 2.1 and will be removed in 3.1. Use 'density' instead.\n",
      "  color=hist_color, **hist_kws)\n"
     ]
    },
    {
     "data": {
      "text/plain": [
       "<matplotlib.axes._subplots.AxesSubplot at 0x15f4ee9a7b8>"
      ]
     },
     "execution_count": 14,
     "metadata": {},
     "output_type": "execute_result"
    },
    {
     "data": {
      "image/png": "[encoded data removed]",
      "text/plain": [
       "<Figure size 432x288 with 1 Axes>"
      ]
     },
     "metadata": {},
     "output_type": "display_data"
    }
   ],
   "source": [
    "sns.distplot(test[\"LoanAmount\"])"
   ]
  },
  {
   "cell_type": "code",
   "execution_count": 15,
   "metadata": {},
   "outputs": [],
   "source": [
    "train.drop([\"CoapplicantIncome\"],inplace=True,axis=1)\n",
    "test.drop([\"CoapplicantIncome\"],inplace=True,axis=1)"
   ]
  },
  {
   "cell_type": "code",
   "execution_count": 16,
   "metadata": {},
   "outputs": [
    {
     "data": {
      "text/plain": [
       "<matplotlib.axes._subplots.AxesSubplot at 0x15f4ef610b8>"
      ]
     },
     "execution_count": 16,
     "metadata": {},
     "output_type": "execute_result"
    },
    {
     "data": {
      "image/png": "[encoded data removed]",
      "text/plain": [
       "<Figure size 432x288 with 2 Axes>"
      ]
     },
     "metadata": {},
     "output_type": "display_data"
    }
   ],
   "source": [
    "sns.heatmap(train.corr(),annot=True)"
   ]
  },
  {
   "cell_type": "code",
   "execution_count": 17,
   "metadata": {},
   "outputs": [
    {
     "data": {
      "text/plain": [
       "<matplotlib.axes._subplots.AxesSubplot at 0x15f4f0df908>"
      ]
     },
     "execution_count": 17,
     "metadata": {},
     "output_type": "execute_result"
    },
    {
     "data": {
      "image/png": "[encoded data removed]",
      "text/plain": [
       "<Figure size 432x288 with 2 Axes>"
      ]
     },
     "metadata": {},
     "output_type": "display_data"
    }
   ],
   "source": [
    "sns.heatmap(test.corr(),annot=True)"
   ]
  },
  {
   "cell_type": "code",
   "execution_count": 18,
   "metadata": {},
   "outputs": [],
   "source": [
    "col = ['Gender', 'Married', 'Dependents', 'Education','Self_Employed', 'Property_Area']"
   ]
  },
  {
   "cell_type": "code",
   "execution_count": 19,
   "metadata": {},
   "outputs": [],
   "source": [
    "from sklearn.preprocessing import LabelEncoder\n",
    "le = LabelEncoder()\n",
    "for data in dataset:\n",
    "    for c in col:\n",
    "        data[c] = le.fit_transform(data[c])"
   ]
  },
  {
   "cell_type": "code",
   "execution_count": 20,
   "metadata": {},
   "outputs": [],
   "source": [
    "train[\"Loan_Status\"] = le.fit_transform(train[\"Loan_Status\"])"
   ]
  },
  {
   "cell_type": "code",
   "execution_count": 21,
   "metadata": {},
   "outputs": [
    {
     "data": {
      "text/plain": [
       "0    480\n",
       "1    134\n",
       "Name: Education, dtype: int64"
      ]
     },
     "execution_count": 21,
     "metadata": {},
     "output_type": "execute_result"
    }
   ],
   "source": [
    "train[\"Education\"].value_counts()"
   ]
  },
  {
   "cell_type": "code",
   "execution_count": 22,
   "metadata": {},
   "outputs": [],
   "source": [
    "train.drop([\"Loan_ID\"],inplace=True,axis=1)\n",
    "test.drop([\"Loan_ID\"],inplace=True,axis=1)"
   ]
  },
  {
   "cell_type": "code",
   "execution_count": 23,
   "metadata": {},
   "outputs": [],
   "source": [
    "x = train.iloc[:,0:10].values"
   ]
  },
  {
   "cell_type": "code",
   "execution_count": 24,
   "metadata": {},
   "outputs": [],
   "source": [
    "y = train.iloc[:,10].values"
   ]
  },
  {
   "cell_type": "code",
   "execution_count": 34,
   "metadata": {},
   "outputs": [
    {
     "data": {
      "text/plain": [
       "LinearSVC(C=1.0, class_weight=None, dual=True, fit_intercept=True,\n",
       "     intercept_scaling=1, loss='squared_hinge', max_iter=1000,\n",
       "     multi_class='ovr', penalty='l2', random_state=20, tol=0.0001,\n",
       "     verbose=0)"
      ]
     },
     "execution_count": 34,
     "metadata": {},
     "output_type": "execute_result"
    }
   ],
   "source": [
    "# Create Linear SVM object\n",
    "support = svm.LinearSVC(random_state=20)\n",
    "support.fit(x,y)"
   ]
  },
  {
   "cell_type": "code",
   "execution_count": 45,
   "metadata": {},
   "outputs": [],
   "source": [
    "y_test_pred = support.predict(test.values)"
   ]
  },
  {
   "cell_type": "code",
   "execution_count": 46,
   "metadata": {},
   "outputs": [],
   "source": [
    "y_train_pred = support.predict(x)"
   ]
  },
  {
   "cell_type": "code",
   "execution_count": 47,
   "metadata": {},
   "outputs": [
    {
     "data": {
      "text/html": [
       "<div>\n",
       "<style scoped>\n",
       "    .dataframe tbody tr th:only-of-type {\n",
       "        vertical-align: middle;\n",
       "    }\n",
       "\n",
       "    .dataframe tbody tr th {\n",
       "        vertical-align: top;\n",
       "    }\n",
       "\n",
       "    .dataframe thead th {\n",
       "        text-align: right;\n",
       "    }\n",
       "</style>\n",
       "<table border=\"1\" class=\"dataframe\">\n",
       "  <thead>\n",
       "    <tr style=\"text-align: right;\">\n",
       "      <th></th>\n",
       "      <th>Actual values</th>\n",
       "      <th>Predicted values</th>\n",
       "    </tr>\n",
       "  </thead>\n",
       "  <tbody>\n",
       "    <tr>\n",
       "      <th>0</th>\n",
       "      <td>1</td>\n",
       "      <td>1</td>\n",
       "    </tr>\n",
       "    <tr>\n",
       "      <th>1</th>\n",
       "      <td>0</td>\n",
       "      <td>1</td>\n",
       "    </tr>\n",
       "    <tr>\n",
       "      <th>2</th>\n",
       "      <td>1</td>\n",
       "      <td>1</td>\n",
       "    </tr>\n",
       "    <tr>\n",
       "      <th>3</th>\n",
       "      <td>1</td>\n",
       "      <td>1</td>\n",
       "    </tr>\n",
       "    <tr>\n",
       "      <th>4</th>\n",
       "      <td>1</td>\n",
       "      <td>1</td>\n",
       "    </tr>\n",
       "    <tr>\n",
       "      <th>5</th>\n",
       "      <td>1</td>\n",
       "      <td>1</td>\n",
       "    </tr>\n",
       "    <tr>\n",
       "      <th>6</th>\n",
       "      <td>1</td>\n",
       "      <td>1</td>\n",
       "    </tr>\n",
       "    <tr>\n",
       "      <th>7</th>\n",
       "      <td>0</td>\n",
       "      <td>1</td>\n",
       "    </tr>\n",
       "    <tr>\n",
       "      <th>8</th>\n",
       "      <td>1</td>\n",
       "      <td>1</td>\n",
       "    </tr>\n",
       "    <tr>\n",
       "      <th>9</th>\n",
       "      <td>0</td>\n",
       "      <td>1</td>\n",
       "    </tr>\n",
       "  </tbody>\n",
       "</table>\n",
       "</div>"
      ],
      "text/plain": [
       "   Actual values  Predicted values\n",
       "0              1                 1\n",
       "1              0                 1\n",
       "2              1                 1\n",
       "3              1                 1\n",
       "4              1                 1\n",
       "5              1                 1\n",
       "6              1                 1\n",
       "7              0                 1\n",
       "8              1                 1\n",
       "9              0                 1"
      ]
     },
     "execution_count": 47,
     "metadata": {},
     "output_type": "execute_result"
    }
   ],
   "source": [
    "import pandas\n",
    "result = pd.DataFrame({\"Actual values\":y,\"Predicted values\":y_train_pred})\n",
    "result.head(10)"
   ]
  },
  {
   "cell_type": "code",
   "execution_count": 48,
   "metadata": {},
   "outputs": [
    {
     "name": "stdout",
     "output_type": "stream",
     "text": [
      "68.73 %\n"
     ]
    }
   ],
   "source": [
    "acc_log = round(support.score(x,y)*100,2)\n",
    "print(acc_log,\"%\")"
   ]
  },
  {
   "cell_type": "code",
   "execution_count": 49,
   "metadata": {},
   "outputs": [
    {
     "data": {
      "text/plain": [
       "0.6872964169381107"
      ]
     },
     "execution_count": 49,
     "metadata": {},
     "output_type": "execute_result"
    }
   ],
   "source": [
    "from sklearn.metrics import accuracy_score,precision_score,recall_score\n",
    "accuracy_score(y_train_pred,y)"
   ]
  },
  {
   "cell_type": "code",
   "execution_count": 44,
   "metadata": {},
   "outputs": [
    {
     "data": {
      "text/plain": [
       "SVC(C=1.0, cache_size=200, class_weight=None, coef0=0.0,\n",
       "  decision_function_shape='ovr', degree=3, gamma='auto', kernel='rbf',\n",
       "  max_iter=-1, probability=False, random_state=None, shrinking=True,\n",
       "  tol=0.001, verbose=False)"
      ]
     },
     "execution_count": 44,
     "metadata": {},
     "output_type": "execute_result"
    }
   ],
   "source": [
    "svc = svm.SVC()\n",
    "svc.fit(x,y)"
   ]
  },
  {
   "cell_type": "code",
   "execution_count": 50,
   "metadata": {},
   "outputs": [],
   "source": [
    "svc_test_pred = svc.predict(test.values)"
   ]
  },
  {
   "cell_type": "code",
   "execution_count": 51,
   "metadata": {},
   "outputs": [],
   "source": [
    "svc_train_pred = svc.predict(x)"
   ]
  },
  {
   "cell_type": "code",
   "execution_count": 52,
   "metadata": {},
   "outputs": [
    {
     "data": {
      "text/html": [
       "<div>\n",
       "<style scoped>\n",
       "    .dataframe tbody tr th:only-of-type {\n",
       "        vertical-align: middle;\n",
       "    }\n",
       "\n",
       "    .dataframe tbody tr th {\n",
       "        vertical-align: top;\n",
       "    }\n",
       "\n",
       "    .dataframe thead th {\n",
       "        text-align: right;\n",
       "    }\n",
       "</style>\n",
       "<table border=\"1\" class=\"dataframe\">\n",
       "  <thead>\n",
       "    <tr style=\"text-align: right;\">\n",
       "      <th></th>\n",
       "      <th>Actual values</th>\n",
       "      <th>Predicted values</th>\n",
       "    </tr>\n",
       "  </thead>\n",
       "  <tbody>\n",
       "    <tr>\n",
       "      <th>0</th>\n",
       "      <td>1</td>\n",
       "      <td>1</td>\n",
       "    </tr>\n",
       "    <tr>\n",
       "      <th>1</th>\n",
       "      <td>0</td>\n",
       "      <td>0</td>\n",
       "    </tr>\n",
       "    <tr>\n",
       "      <th>2</th>\n",
       "      <td>1</td>\n",
       "      <td>1</td>\n",
       "    </tr>\n",
       "    <tr>\n",
       "      <th>3</th>\n",
       "      <td>1</td>\n",
       "      <td>1</td>\n",
       "    </tr>\n",
       "    <tr>\n",
       "      <th>4</th>\n",
       "      <td>1</td>\n",
       "      <td>1</td>\n",
       "    </tr>\n",
       "    <tr>\n",
       "      <th>5</th>\n",
       "      <td>1</td>\n",
       "      <td>1</td>\n",
       "    </tr>\n",
       "    <tr>\n",
       "      <th>6</th>\n",
       "      <td>1</td>\n",
       "      <td>1</td>\n",
       "    </tr>\n",
       "    <tr>\n",
       "      <th>7</th>\n",
       "      <td>0</td>\n",
       "      <td>0</td>\n",
       "    </tr>\n",
       "    <tr>\n",
       "      <th>8</th>\n",
       "      <td>1</td>\n",
       "      <td>1</td>\n",
       "    </tr>\n",
       "    <tr>\n",
       "      <th>9</th>\n",
       "      <td>0</td>\n",
       "      <td>0</td>\n",
       "    </tr>\n",
       "  </tbody>\n",
       "</table>\n",
       "</div>"
      ],
      "text/plain": [
       "   Actual values  Predicted values\n",
       "0              1                 1\n",
       "1              0                 0\n",
       "2              1                 1\n",
       "3              1                 1\n",
       "4              1                 1\n",
       "5              1                 1\n",
       "6              1                 1\n",
       "7              0                 0\n",
       "8              1                 1\n",
       "9              0                 0"
      ]
     },
     "execution_count": 52,
     "metadata": {},
     "output_type": "execute_result"
    }
   ],
   "source": [
    "result = pd.DataFrame({\"Actual values\":y,\"Predicted values\":svc_train_pred})\n",
    "result.head(10)"
   ]
  },
  {
   "cell_type": "code",
   "execution_count": 53,
   "metadata": {},
   "outputs": [
    {
     "data": {
      "text/plain": [
       "0.996742671009772"
      ]
     },
     "execution_count": 53,
     "metadata": {},
     "output_type": "execute_result"
    }
   ],
   "source": [
    "accuracy_score(svc_train_pred,y)"
   ]
  },
  {
   "cell_type": "code",
   "execution_count": null,
   "metadata": {},
   "outputs": [],
   "source": []
  }
 ],
 "metadata": {
  "kernelspec": {
   "display_name": "Python 3",
   "language": "python",
   "name": "python3"
  },
  "language_info": {
   "codemirror_mode": {
    "name": "ipython",
    "version": 3
   },
   "file_extension": ".py",
   "mimetype": "text/x-python",
   "name": "python",
   "nbconvert_exporter": "python",
   "pygments_lexer": "ipython3",
   "version": "3.6.5"
  }
 },
 "nbformat": 4,
 "nbformat_minor": 2
}
